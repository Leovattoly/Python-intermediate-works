{
 "cells": [
  {
   "cell_type": "code",
   "execution_count": 12,
   "metadata": {},
   "outputs": [
    {
     "name": "stdout",
     "output_type": "stream",
     "text": [
      "area of intersect: 13.656608779925696\n",
      "None\n"
     ]
    }
   ],
   "source": [
    "from shapely.geometry.point import Point\n",
    "from shapely import affinity\n",
    "import numpy as np\n",
    "\n",
    "class Ellipse:\n",
    "         \n",
    "    def create_ellipse(center, lengths, angle=0):\n",
    "        circ = Point(center).buffer(1)\n",
    "        ell = affinity.scale(circ, int(lengths[0]), int(lengths[1]))\n",
    "        ellr = affinity.rotate(ell, angle)\n",
    "        return ellr\n",
    "\n",
    "\n",
    "\n",
    "\n",
    "##compute areas and ratios \n",
    "def computeoverlapOfEllipse(e1,e2):\n",
    "    \n",
    "    intersect = e1.intersection(e2)\n",
    "    verts3 = np.array(intersect.exterior.coords.xy)\n",
    "    print('area of intersect:',intersect.area)\n",
    "\n",
    "##first ellipse \n",
    "e1 = Ellipse\n",
    "ellipse1 = e1.create_ellipse((-1,1),(3,2),50)\n",
    "verts1 = np.array(ellipse1.exterior.coords.xy)\n",
    "\n",
    "\n",
    "##second ellipse  \n",
    "e2 = Ellipse\n",
    "ellipse2 = e2.create_ellipse((0,0),(2,4),10)\n",
    "verts2 = np.array(ellipse2.exterior.coords.xy)\n",
    "\n",
    "print(computeoverlapOfEllipse(ellipse1,ellipse2))\n"
   ]
  },
  {
   "cell_type": "code",
   "execution_count": null,
   "metadata": {},
   "outputs": [],
   "source": []
  },
  {
   "cell_type": "code",
   "execution_count": null,
   "metadata": {},
   "outputs": [],
   "source": []
  }
 ],
 "metadata": {
  "kernelspec": {
   "display_name": "Python 3",
   "language": "python",
   "name": "python3"
  },
  "language_info": {
   "codemirror_mode": {
    "name": "ipython",
    "version": 3
   },
   "file_extension": ".py",
   "mimetype": "text/x-python",
   "name": "python",
   "nbconvert_exporter": "python",
   "pygments_lexer": "ipython3",
   "version": "3.7.3"
  }
 },
 "nbformat": 4,
 "nbformat_minor": 2
}
